{
 "cells": [
  {
   "cell_type": "code",
   "execution_count": 163,
   "id": "e9643bc1-b75e-47c6-910b-6ff3fcdf7ae1",
   "metadata": {},
   "outputs": [],
   "source": [
    "from selenium import webdriver\n",
    "from selenium.webdriver.common.by import By\n",
    "from selenium.webdriver.support.ui import WebDriverWait\n",
    "from time import sleep\n",
    "from selenium.webdriver.support import expected_conditions as EC\n",
    "from bs4 import BeautifulSoup\n",
    "\n",
    "URL = 'https://data.census.gov/profile?q=United%20States&g=010XX00US'\n",
    "driver = webdriver.Chrome()\n",
    "driver.get(URL)\n",
    "\n",
    "sleep(3)\n",
    "\n",
    "Data = {\"State\": [], \"Total_population\": [], \"Median_house_income\": [],\n",
    "        \"Bachelor_degree_or_higher\": [], \"Employment Rate\": [], \"Total_Housing_Unit\": [],\n",
    "        \"Uncoveraged_Health_Care\": [], \"Total_Employer_Establishements\": [],\n",
    "        \"Total_HouseHold\": [], \"Hispanic_or_Latino(of_any_race)\": []}\n",
    "\n",
    "profile_list=[]\n",
    "\n",
    "i = 0\n",
    "while i < 6:\n",
    "    driver.get(URL)\n",
    "    sleep(3)\n",
    "\n",
    "    Next_button = driver.find_element(By.XPATH, '//*[@id=\"content-layout\"]/div[2]/div[1]/div/div[3]/main/div[1]/div[1]/div[2]/div[2]/div/div[2]/div[11]/div[1]/div[7]/div')\n",
    "    sleep(3)   \n",
    "    for _ in range(i):\n",
    "        try:\n",
    "            Next_button.click()\n",
    "            sleep(1)\n",
    "        except NoSuchElementException:\n",
    "            print(\"No button to click. Ending the loop.\")\n",
    "            break\n",
    "    i += 1\n",
    "    \n",
    "    WebDriverWait(driver, 10).until(\n",
    "        EC.presence_of_element_located((By.CLASS_NAME, 'profile-name'))\n",
    "    )  \n",
    "    \n",
    "    html = driver.page_source\n",
    "    soup = BeautifulSoup(html, 'html.parser')\n",
    "    \n",
    "    States = soup.find_all(\"h2\", class_=\"profile-name aqua-text-body\")\n",
    "    \n",
    "    for State in States:\n",
    "        state_text = State.text\n",
    "        Data['State'].append(state_text)\n",
    "    \n",
    "    links = soup.find_all(\"a\", class_=\"profile-link\")\n",
    "     \n",
    "    for link in links:\n",
    "        link_list = 'https://data.census.gov' + link.get('href')\n",
    "        profile_list.append(link_list)\n",
    "\n"
   ]
  },
  {
   "cell_type": "code",
   "execution_count": 165,
   "id": "220fdb1c-9469-4674-ab76-392a9bfa5271",
   "metadata": {},
   "outputs": [],
   "source": [
    "for each_url in profile_list:\n",
    "    driver2 = webdriver.Chrome()\n",
    "    driver2.get(each_url)\n",
    "    sleep(12)\n",
    "    new_html = driver2.page_source\n",
    "    new_soup = BeautifulSoup(new_html, 'html.parser')\n",
    "    sleep(2)\n",
    "    try:\n",
    "        Dataraw = new_soup.find_all(\"div\", class_=\"highlight-value nowrap\")[:9]\n",
    "        \n",
    "        Data['Total_population'].append(Dataraw[0].text.strip())\n",
    "        Data['Median_house_income'].append(Dataraw[1].text.strip())\n",
    "        Data['Bachelor_degree_or_higher'].append(Dataraw[2].text.strip())\n",
    "        Data['Employment Rate'].append(Dataraw[3].text.strip())\n",
    "        Data['Total_Housing_Unit'].append(Dataraw[4].text.strip())\n",
    "        Data['Uncoveraged_Health_Care'].append(Dataraw[5].text.strip())\n",
    "        Data['Total_Employer_Establishements'].append(Dataraw[6].text.strip())\n",
    "        Data['Total_HouseHold'].append(Dataraw[7].text.strip())\n",
    "        Data['Hispanic_or_Latino(of_any_race)'].append(Dataraw[8].text.strip())\n",
    "    except IndexError:\n",
    "        \n",
    "        Data['Total_population'].append('N/A')\n",
    "        Data['Median_house_income'].append('N/A')\n",
    "        Data['Bachelor_degree_or_higher'].append('N/A')\n",
    "        Data['Employment Rate'].append('N/A')\n",
    "        Data['Total_Housing_Unit'].append('N/A')\n",
    "        Data['Uncoveraged_Health_Care'].append('N/A')\n",
    "        Data['Total_Employer_Establishements'].append('N/A')\n",
    "        Data['Total_HouseHold'].append('N/A')\n",
    "        Data['Hispanic_or_Latino(of_any_race)'].append('N/A')\n"
   ]
  },
  {
   "cell_type": "code",
   "execution_count": 133,
   "id": "9952054e-c203-450a-b40d-401567b6ada8",
   "metadata": {},
   "outputs": [],
   "source": [
    "import pandas as pd"
   ]
  },
  {
   "cell_type": "code",
   "execution_count": 168,
   "id": "aa4d74c5-0bd5-4250-ba63-ff6cf6a938c1",
   "metadata": {},
   "outputs": [],
   "source": [
    "\n",
    "df4 = pd.DataFrame.from_dict(Data)\n",
    "csv_file_path = \"E:/Resume/Census4.csv\"\n",
    "df4.to_csv(csv_file_path, index=False)\n"
   ]
  },
  {
   "cell_type": "code",
   "execution_count": null,
   "id": "4139b999-5565-4500-bca9-0ec2594c6f78",
   "metadata": {},
   "outputs": [],
   "source": []
  }
 ],
 "metadata": {
  "kernelspec": {
   "display_name": "Python 3 (ipykernel)",
   "language": "python",
   "name": "python3"
  },
  "language_info": {
   "codemirror_mode": {
    "name": "ipython",
    "version": 3
   },
   "file_extension": ".py",
   "mimetype": "text/x-python",
   "name": "python",
   "nbconvert_exporter": "python",
   "pygments_lexer": "ipython3",
   "version": "3.11.4"
  }
 },
 "nbformat": 4,
 "nbformat_minor": 5
}
